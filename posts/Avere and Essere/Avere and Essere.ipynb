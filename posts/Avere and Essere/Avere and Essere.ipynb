{
 "cells": [
  {
   "cell_type": "raw",
   "id": "21fc655d",
   "metadata": {},
   "source": [
    "---\n",
    "title: \"Avere and Essere\"\n",
    "date: \"2022-09-28\"\n",
    "categories: [theme]\n",
    "format: \n",
    "    html:\n",
    "        toc: true\n",
    "jupyter: python3\n",
    "---"
   ]
  },
  {
   "cell_type": "markdown",
   "id": "15e343d1",
   "metadata": {},
   "source": [
    "# Avere and Essere\n",
    "\n",
    "Avere (to have) and Essere (to be) are 2 key verbs in Italian. \n",
    "\n",
    "The articles below give a lot of details, including in all tenses. I'm not interested in going into as much detail but it could be useful as a source for future reference. \n",
    "\n",
    "https://www.clozemaster.com/blog/essere-conjugation-italian/\n",
    "https://www.clozemaster.com/blog/avere-conjugation-italian/\n",
    "\n",
    "There's a few cases here where the article differs with the content in the gramm.it book. For example, \"essi\" is used in place or \"loro\", and \"egli\" instead of \"lui/lei\". I guess these are just minor differences but it's interesting that this can be the case for such simple words. "
   ]
  },
  {
   "cell_type": "code",
   "execution_count": 26,
   "id": "0f0d0dbd",
   "metadata": {},
   "outputs": [],
   "source": [
    "import pandas as pd\n",
    "from learnitalian.speak import *\n",
    "from googletrans import Translator"
   ]
  },
  {
   "cell_type": "markdown",
   "id": "938063e4",
   "metadata": {},
   "source": [
    "## Essere\n",
    "\n",
    "To be"
   ]
  },
  {
   "cell_type": "code",
   "execution_count": 25,
   "id": "03ee1529",
   "metadata": {},
   "outputs": [
    {
     "data": {
      "text/html": [
       "<div>\n",
       "<style scoped>\n",
       "    .dataframe tbody tr th:only-of-type {\n",
       "        vertical-align: middle;\n",
       "    }\n",
       "\n",
       "    .dataframe tbody tr th {\n",
       "        vertical-align: top;\n",
       "    }\n",
       "\n",
       "    .dataframe thead th {\n",
       "        text-align: right;\n",
       "    }\n",
       "</style>\n",
       "<table border=\"1\" class=\"dataframe\">\n",
       "  <thead>\n",
       "    <tr style=\"text-align: right;\">\n",
       "      <th></th>\n",
       "      <th>English</th>\n",
       "      <th>Italian</th>\n",
       "    </tr>\n",
       "  </thead>\n",
       "  <tbody>\n",
       "    <tr>\n",
       "      <th>0</th>\n",
       "      <td>I am</td>\n",
       "      <td>Io sono</td>\n",
       "    </tr>\n",
       "    <tr>\n",
       "      <th>1</th>\n",
       "      <td>you are</td>\n",
       "      <td>tu sei</td>\n",
       "    </tr>\n",
       "    <tr>\n",
       "      <th>2</th>\n",
       "      <td>he or she is</td>\n",
       "      <td>lui or lei è</td>\n",
       "    </tr>\n",
       "    <tr>\n",
       "      <th>3</th>\n",
       "      <td>we are</td>\n",
       "      <td>noi siamo</td>\n",
       "    </tr>\n",
       "    <tr>\n",
       "      <th>4</th>\n",
       "      <td>you are</td>\n",
       "      <td>voi siete</td>\n",
       "    </tr>\n",
       "    <tr>\n",
       "      <th>5</th>\n",
       "      <td>they are</td>\n",
       "      <td>loro sono</td>\n",
       "    </tr>\n",
       "  </tbody>\n",
       "</table>\n",
       "</div>"
      ],
      "text/plain": [
       "        English       Italian\n",
       "0          I am       Io sono\n",
       "1       you are        tu sei\n",
       "2  he or she is  lui or lei è\n",
       "3        we are     noi siamo\n",
       "4       you are     voi siete\n",
       "5      they are     loro sono"
      ]
     },
     "execution_count": 25,
     "metadata": {},
     "output_type": "execute_result"
    }
   ],
   "source": [
    "essere = pd.DataFrame({\n",
    "    \"English\": [\"I am\", \"you are\", \"he or she is\", \"we are\", \"you are\", \"they are\"],\n",
    "    \"Italian\": [\"Io sono\", \"tu sei\", \"lui or lei è\", \"noi siamo\", \"voi siete\", \"loro sono\"]\n",
    "})\n",
    "essere"
   ]
  },
  {
   "cell_type": "markdown",
   "id": "6df34253",
   "metadata": {},
   "source": [
    "## Avere\n",
    "\n",
    "To have"
   ]
  },
  {
   "cell_type": "code",
   "execution_count": 27,
   "id": "3441981b",
   "metadata": {},
   "outputs": [
    {
     "data": {
      "text/html": [
       "<div>\n",
       "<style scoped>\n",
       "    .dataframe tbody tr th:only-of-type {\n",
       "        vertical-align: middle;\n",
       "    }\n",
       "\n",
       "    .dataframe tbody tr th {\n",
       "        vertical-align: top;\n",
       "    }\n",
       "\n",
       "    .dataframe thead th {\n",
       "        text-align: right;\n",
       "    }\n",
       "</style>\n",
       "<table border=\"1\" class=\"dataframe\">\n",
       "  <thead>\n",
       "    <tr style=\"text-align: right;\">\n",
       "      <th></th>\n",
       "      <th>English</th>\n",
       "      <th>Italian</th>\n",
       "    </tr>\n",
       "  </thead>\n",
       "  <tbody>\n",
       "    <tr>\n",
       "      <th>0</th>\n",
       "      <td>I have</td>\n",
       "      <td>io ho</td>\n",
       "    </tr>\n",
       "    <tr>\n",
       "      <th>1</th>\n",
       "      <td>you have</td>\n",
       "      <td>tu hai</td>\n",
       "    </tr>\n",
       "    <tr>\n",
       "      <th>2</th>\n",
       "      <td>he or she has</td>\n",
       "      <td>lui or lei ha</td>\n",
       "    </tr>\n",
       "    <tr>\n",
       "      <th>3</th>\n",
       "      <td>we have</td>\n",
       "      <td>noi abbiamo</td>\n",
       "    </tr>\n",
       "    <tr>\n",
       "      <th>4</th>\n",
       "      <td>you have</td>\n",
       "      <td>voi avete</td>\n",
       "    </tr>\n",
       "    <tr>\n",
       "      <th>5</th>\n",
       "      <td>they have</td>\n",
       "      <td>loro hanno</td>\n",
       "    </tr>\n",
       "  </tbody>\n",
       "</table>\n",
       "</div>"
      ],
      "text/plain": [
       "         English        Italian\n",
       "0         I have          io ho\n",
       "1       you have         tu hai\n",
       "2  he or she has  lui or lei ha\n",
       "3        we have    noi abbiamo\n",
       "4       you have      voi avete\n",
       "5      they have     loro hanno"
      ]
     },
     "execution_count": 27,
     "metadata": {},
     "output_type": "execute_result"
    }
   ],
   "source": [
    "avere = pd.DataFrame({\n",
    "    \"English\": [\"I have\", \"you have\", \"he or she has\", \"we have\", \"you have\", \"they have\"],\n",
    "    \"Italian\": [\"io ho\", \"tu hai\", \"lui or lei ha\", \"noi abbiamo\", \"voi avete\", \"loro hanno\"]\n",
    "})\n",
    "avere"
   ]
  },
  {
   "cell_type": "markdown",
   "id": "4313b3a8",
   "metadata": {},
   "source": [
    "# Use Cases"
   ]
  },
  {
   "cell_type": "markdown",
   "id": "42c73694",
   "metadata": {},
   "source": [
    "Essere and Avere are used in a somewhat different way in italian to their english translations. For example, when indicating age, I would say _\"Ho 26 anni\"_, i.e. (literal translation) _\"I have 26 years\"_. This is the same with e.g. _\"Ho fame\"_ to say _\"I am hungry\"_, or literally _\"I have hunger\"_. In other words,  It's also worth pointing out here the Italian will drop the prefix. "
   ]
  }
 ],
 "metadata": {
  "kernelspec": {
   "display_name": "Python 3 (ipykernel)",
   "language": "python",
   "name": "python3"
  },
  "language_info": {
   "codemirror_mode": {
    "name": "ipython",
    "version": 3
   },
   "file_extension": ".py",
   "mimetype": "text/x-python",
   "name": "python",
   "nbconvert_exporter": "python",
   "pygments_lexer": "ipython3",
   "version": "3.10.5"
  }
 },
 "nbformat": 4,
 "nbformat_minor": 5
}
