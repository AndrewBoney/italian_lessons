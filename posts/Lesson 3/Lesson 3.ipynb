{
 "cells": [
  {
   "cell_type": "raw",
   "id": "21fc655d",
   "metadata": {},
   "source": [
    "---\n",
    "title: \"Lesson 3\"\n",
    "date: \"2022-09-28\"\n",
    "categories: [lesson]\n",
    "format: \n",
    "    html:\n",
    "        toc: true\n",
    "jupyter: python3\n",
    "---"
   ]
  },
  {
   "cell_type": "markdown",
   "id": "5b13dd81",
   "metadata": {},
   "source": [
    "Lesson 3. Class was on 28th September, I'm writing this up on 11th August. This loosely follows Chapter 2 of [the book](https://www.italianbookshop.co.uk/italianbooks/series/GRMM).\n"
   ]
  },
  {
   "cell_type": "markdown",
   "id": "7b6bbcf8",
   "metadata": {},
   "source": [
    "# The Indefinite Article"
   ]
  },
  {
   "cell_type": "markdown",
   "id": "922cb194",
   "metadata": {},
   "source": [
    "Definition (from google):\n",
    "\n",
    "\n",
    "_An indefinite article is an article that refers to a noun without specifying it or refers to a noun to introduce it for the first time. For example, the sentence I saw a dog at the park uses the indefinite article a._"
   ]
  },
  {
   "cell_type": "code",
   "execution_count": 1,
   "id": "2f75187b",
   "metadata": {},
   "outputs": [],
   "source": [
    "import pandas as pd\n",
    "from googletrans import Translator\n",
    "from learnitalian.speak import *\n",
    "\n",
    "translator = Translator()\n",
    "pd.set_option('display.max_colwidth', None)"
   ]
  },
  {
   "cell_type": "code",
   "execution_count": 2,
   "id": "49d2eb1d",
   "metadata": {},
   "outputs": [
    {
     "data": {
      "text/html": [
       "<div>\n",
       "<style scoped>\n",
       "    .dataframe tbody tr th:only-of-type {\n",
       "        vertical-align: middle;\n",
       "    }\n",
       "\n",
       "    .dataframe tbody tr th {\n",
       "        vertical-align: top;\n",
       "    }\n",
       "\n",
       "    .dataframe thead th {\n",
       "        text-align: right;\n",
       "    }\n",
       "</style>\n",
       "<table border=\"1\" class=\"dataframe\">\n",
       "  <thead>\n",
       "    <tr style=\"text-align: right;\">\n",
       "      <th></th>\n",
       "      <th>word</th>\n",
       "      <th>gender</th>\n",
       "      <th>context</th>\n",
       "    </tr>\n",
       "  </thead>\n",
       "  <tbody>\n",
       "    <tr>\n",
       "      <th>0</th>\n",
       "      <td>Un</td>\n",
       "      <td>Masculine</td>\n",
       "      <td>Before words beginning with vowel or consonant</td>\n",
       "    </tr>\n",
       "    <tr>\n",
       "      <th>1</th>\n",
       "      <td>Uno</td>\n",
       "      <td>Masculine</td>\n",
       "      <td>Before words beginning with [s(consonant), z, gn, ps, x, y]</td>\n",
       "    </tr>\n",
       "    <tr>\n",
       "      <th>2</th>\n",
       "      <td>Una</td>\n",
       "      <td>Feminine</td>\n",
       "      <td>Before words beginning with vowel</td>\n",
       "    </tr>\n",
       "    <tr>\n",
       "      <th>3</th>\n",
       "      <td>Un'</td>\n",
       "      <td>Feminine</td>\n",
       "      <td>Before words beginning with consonant</td>\n",
       "    </tr>\n",
       "  </tbody>\n",
       "</table>\n",
       "</div>"
      ],
      "text/plain": [
       "  word     gender                                                      context\n",
       "0   Un  Masculine               Before words beginning with vowel or consonant\n",
       "1  Uno  Masculine  Before words beginning with [s(consonant), z, gn, ps, x, y]\n",
       "2  Una   Feminine                            Before words beginning with vowel\n",
       "3  Un'   Feminine                        Before words beginning with consonant"
      ]
     },
     "execution_count": 2,
     "metadata": {},
     "output_type": "execute_result"
    }
   ],
   "source": [
    "indef_table = pd.DataFrame({\n",
    "    \"word\": [\"Un\", \"Uno\", \"Una\", \"Un'\"],\n",
    "    \"gender\": [\"Masculine\"] * 2 + [\"Feminine\"] * 2,\n",
    "    \"context\": [\"Before words beginning with vowel or consonant\", \n",
    "                \"Before words beginning with [s(consonant), z, gn, ps, x, y]\",\n",
    "                \"Before words beginning with vowel\",\n",
    "                \"Before words beginning with consonant\"]\n",
    "})\n",
    "indef_table"
   ]
  },
  {
   "cell_type": "markdown",
   "id": "9871d18a",
   "metadata": {},
   "source": [
    "## Some examples...\n",
    "\n",
    "Print some examples for the blog. These are taken from the book. \n",
    "\n",
    "Weirdly, the example for Un' (Un'agenda) translates to 'an agenda', when the picture in the book looks more like diary. Can't work a more appropriate translation but this doesn't feel like it's worked properly."
   ]
  },
  {
   "cell_type": "code",
   "execution_count": 3,
   "id": "a4c9e241",
   "metadata": {},
   "outputs": [],
   "source": [
    "def print_and_translate(word, translator=translator):\n",
    "    print(translator.translate(word, dest = \"en\").text)\n",
    "    say_word(word)"
   ]
  },
  {
   "cell_type": "code",
   "execution_count": 4,
   "id": "5bd86db9",
   "metadata": {},
   "outputs": [
    {
     "name": "stdout",
     "output_type": "stream",
     "text": [
      "A bed\n"
     ]
    },
    {
     "data": {
      "text/plain": [
       "'Un Letto'"
      ]
     },
     "metadata": {},
     "output_type": "display_data"
    },
    {
     "data": {
      "text/html": [
       "\n",
       "                <audio  controls=\"controls\" >\n",
       "                    <source src=\"data:audio/mpeg;base64,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\" type=\"audio/mpeg\" />\n",
       "                    Your browser does not support the audio element.\n",
       "                </audio>\n",
       "              "
      ],
      "text/plain": [
       "<IPython.lib.display.Audio object>"
      ]
     },
     "metadata": {},
     "output_type": "display_data"
    }
   ],
   "source": [
    "print_and_translate(\"Un Letto\")"
   ]
  },
  {
   "cell_type": "code",
   "execution_count": 5,
   "id": "e35fb8ab",
   "metadata": {},
   "outputs": [
    {
     "name": "stdout",
     "output_type": "stream",
     "text": [
      "A mirror\n"
     ]
    },
    {
     "data": {
      "text/plain": [
       "'Uno Specchio'"
      ]
     },
     "metadata": {},
     "output_type": "display_data"
    },
    {
     "data": {
      "text/html": [
       "\n",
       "                <audio  controls=\"controls\" >\n",
       "                    <source src=\"data:audio/mpeg;base64,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\" type=\"audio/mpeg\" />\n",
       "                    Your browser does not support the audio element.\n",
       "                </audio>\n",
       "              "
      ],
      "text/plain": [
       "<IPython.lib.display.Audio object>"
      ]
     },
     "metadata": {},
     "output_type": "display_data"
    }
   ],
   "source": [
    "print_and_translate(\"Uno Specchio\")"
   ]
  },
  {
   "cell_type": "code",
   "execution_count": 6,
   "id": "8c752725",
   "metadata": {},
   "outputs": [
    {
     "name": "stdout",
     "output_type": "stream",
     "text": [
      "A lamp\n"
     ]
    },
    {
     "data": {
      "text/plain": [
       "'Una Lampada'"
      ]
     },
     "metadata": {},
     "output_type": "display_data"
    },
    {
     "data": {
      "text/html": [
       "\n",
       "                <audio  controls=\"controls\" >\n",
       "                    <source src=\"data:audio/mpeg;base64,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\" type=\"audio/mpeg\" />\n",
       "                    Your browser does not support the audio element.\n",
       "                </audio>\n",
       "              "
      ],
      "text/plain": [
       "<IPython.lib.display.Audio object>"
      ]
     },
     "metadata": {},
     "output_type": "display_data"
    }
   ],
   "source": [
    "print_and_translate(\"Una Lampada\")"
   ]
  },
  {
   "cell_type": "code",
   "execution_count": 7,
   "id": "58ea7414",
   "metadata": {},
   "outputs": [
    {
     "name": "stdout",
     "output_type": "stream",
     "text": [
      "An agenda\n"
     ]
    },
    {
     "data": {
      "text/plain": [
       "\"Un'agenda\""
      ]
     },
     "metadata": {},
     "output_type": "display_data"
    },
    {
     "data": {
      "text/html": [
       "\n",
       "                <audio  controls=\"controls\" >\n",
       "                    <source src=\"data:audio/mpeg;base64,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\" type=\"audio/mpeg\" />\n",
       "                    Your browser does not support the audio element.\n",
       "                </audio>\n",
       "              "
      ],
      "text/plain": [
       "<IPython.lib.display.Audio object>"
      ]
     },
     "metadata": {},
     "output_type": "display_data"
    }
   ],
   "source": [
    "print_and_translate(\"Un'agenda\")"
   ]
  },
  {
   "cell_type": "markdown",
   "id": "56b8bda5",
   "metadata": {},
   "source": [
    "# Definite Article"
   ]
  },
  {
   "cell_type": "code",
   "execution_count": 8,
   "id": "297e54e9",
   "metadata": {},
   "outputs": [
    {
     "data": {
      "text/html": [
       "<div>\n",
       "<style scoped>\n",
       "    .dataframe tbody tr th:only-of-type {\n",
       "        vertical-align: middle;\n",
       "    }\n",
       "\n",
       "    .dataframe tbody tr th {\n",
       "        vertical-align: top;\n",
       "    }\n",
       "\n",
       "    .dataframe thead th {\n",
       "        text-align: right;\n",
       "    }\n",
       "</style>\n",
       "<table border=\"1\" class=\"dataframe\">\n",
       "  <thead>\n",
       "    <tr style=\"text-align: right;\">\n",
       "      <th></th>\n",
       "      <th>word</th>\n",
       "      <th>gender</th>\n",
       "      <th>plurality</th>\n",
       "      <th>startswith</th>\n",
       "    </tr>\n",
       "  </thead>\n",
       "  <tbody>\n",
       "    <tr>\n",
       "      <th>0</th>\n",
       "      <td>Il</td>\n",
       "      <td>masculine</td>\n",
       "      <td>singular</td>\n",
       "      <td>&lt;consonant&gt;</td>\n",
       "    </tr>\n",
       "    <tr>\n",
       "      <th>1</th>\n",
       "      <td>Lo</td>\n",
       "      <td>masculine</td>\n",
       "      <td>singular</td>\n",
       "      <td>[s(&lt;consonant&gt;), z, gn, ps, x, y]</td>\n",
       "    </tr>\n",
       "    <tr>\n",
       "      <th>2</th>\n",
       "      <td>La</td>\n",
       "      <td>feminine</td>\n",
       "      <td>singular</td>\n",
       "      <td>&lt;consonant&gt;</td>\n",
       "    </tr>\n",
       "    <tr>\n",
       "      <th>3</th>\n",
       "      <td>L'</td>\n",
       "      <td>either</td>\n",
       "      <td>singular</td>\n",
       "      <td>&lt;vowel&gt;</td>\n",
       "    </tr>\n",
       "    <tr>\n",
       "      <th>4</th>\n",
       "      <td>I</td>\n",
       "      <td>masculine</td>\n",
       "      <td>plural</td>\n",
       "      <td>&lt;consonant&gt;</td>\n",
       "    </tr>\n",
       "    <tr>\n",
       "      <th>5</th>\n",
       "      <td>Gli</td>\n",
       "      <td>masculine</td>\n",
       "      <td>plural</td>\n",
       "      <td>[s(consonant), z, gn, ps, x, y, &lt;vowel&gt;]</td>\n",
       "    </tr>\n",
       "    <tr>\n",
       "      <th>6</th>\n",
       "      <td>Le</td>\n",
       "      <td>feminine</td>\n",
       "      <td>plural</td>\n",
       "      <td>all</td>\n",
       "    </tr>\n",
       "  </tbody>\n",
       "</table>\n",
       "</div>"
      ],
      "text/plain": [
       "  word     gender plurality                                startswith\n",
       "0   Il  masculine  singular                               <consonant>\n",
       "1   Lo  masculine  singular         [s(<consonant>), z, gn, ps, x, y]\n",
       "2   La   feminine  singular                               <consonant>\n",
       "3   L'     either  singular                                   <vowel>\n",
       "4    I  masculine    plural                               <consonant>\n",
       "5  Gli  masculine    plural  [s(consonant), z, gn, ps, x, y, <vowel>]\n",
       "6   Le   feminine    plural                                       all"
      ]
     },
     "execution_count": 8,
     "metadata": {},
     "output_type": "execute_result"
    }
   ],
   "source": [
    "indef_df = pd.DataFrame({\n",
    "    \"word\": [\"Il\", \"Lo\", \"La\", \"L'\", \"I\", \"Gli\", \"Le\"],\n",
    "    \"gender\": [\"masculine\", \"masculine\", \"feminine\", \"either\", \"masculine\", \"masculine\", \"feminine\"],\n",
    "    \"plurality\": [\"singular\", \"singular\", \"singular\", \"singular\", \"plural\", \"plural\", \"plural\"],\n",
    "    \"startswith\": [\"<consonant>\", \"[s(<consonant>), z, gn, ps, x, y]\", \"<consonant>\", \"<vowel>\", \"<consonant>\", \n",
    "                   \"[s(consonant), z, gn, ps, x, y, <vowel>]\", \"all\"]\n",
    "})\n",
    "indef_df"
   ]
  },
  {
   "cell_type": "markdown",
   "id": "8b8ac833",
   "metadata": {},
   "source": [
    "These are used before _nouns that we know something about_.\n",
    "\n",
    "` \n",
    "The indefitine article precedes nouns denoting ...things.. that have not been mentioned previously... \n",
    "The definite article is used denoting ...things.. that have already been introduced`"
   ]
  },
  {
   "cell_type": "code",
   "execution_count": 17,
   "id": "40a44f57",
   "metadata": {},
   "outputs": [],
   "source": [
    "def test_correct(word_en, word_it):\n",
    "    word_it_correct = translator.translate(word_en, dest = \"it\").text\n",
    "    return word_it == word_it_correct"
   ]
  },
  {
   "cell_type": "markdown",
   "id": "886e8670",
   "metadata": {},
   "source": [
    "Start out easy. Singular, I think feminine. "
   ]
  },
  {
   "cell_type": "code",
   "execution_count": 18,
   "id": "c502d3a7",
   "metadata": {},
   "outputs": [
    {
     "data": {
      "text/plain": [
       "True"
      ]
     },
     "execution_count": 18,
     "metadata": {},
     "output_type": "execute_result"
    }
   ],
   "source": [
    "test_correct(\"the dog\", \"il cane\")"
   ]
  },
  {
   "cell_type": "code",
   "execution_count": 19,
   "id": "39111372",
   "metadata": {},
   "outputs": [
    {
     "data": {
      "text/plain": [
       "True"
      ]
     },
     "execution_count": 19,
     "metadata": {},
     "output_type": "execute_result"
    }
   ],
   "source": [
    "test_correct(\"the cat\", \"il gatto\")"
   ]
  },
  {
   "cell_type": "code",
   "execution_count": 22,
   "id": "9a7fb7fc",
   "metadata": {},
   "outputs": [
    {
     "data": {
      "text/plain": [
       "True"
      ]
     },
     "execution_count": 22,
     "metadata": {},
     "output_type": "execute_result"
    }
   ],
   "source": [
    "test_correct(\"the apple\", \"la mela\")"
   ]
  },
  {
   "cell_type": "code",
   "execution_count": 23,
   "id": "87cce0e4",
   "metadata": {},
   "outputs": [
    {
     "data": {
      "text/plain": [
       "False"
      ]
     },
     "execution_count": 23,
     "metadata": {},
     "output_type": "execute_result"
    }
   ],
   "source": [
    "test_correct(\"the apples\", \"I mele\")"
   ]
  },
  {
   "cell_type": "markdown",
   "id": "7b6616d9",
   "metadata": {},
   "source": [
    ":( \n",
    "\n",
    "I think I misread above; mela/mele is femine not masculine, so should be..."
   ]
  },
  {
   "cell_type": "code",
   "execution_count": 24,
   "id": "83661d88",
   "metadata": {},
   "outputs": [
    {
     "data": {
      "text/plain": [
       "True"
      ]
     },
     "execution_count": 24,
     "metadata": {},
     "output_type": "execute_result"
    }
   ],
   "source": [
    "test_correct(\"the apples\", \"le mele\")"
   ]
  },
  {
   "cell_type": "markdown",
   "id": "c195bb9f",
   "metadata": {},
   "source": [
    "# Homework"
   ]
  },
  {
   "cell_type": "markdown",
   "id": "c0faf851",
   "metadata": {},
   "source": [
    "Go through the exercises in the definite and indefinite article chapters in the book. "
   ]
  }
 ],
 "metadata": {
  "kernelspec": {
   "display_name": "Python 3 (ipykernel)",
   "language": "python",
   "name": "python3"
  },
  "language_info": {
   "codemirror_mode": {
    "name": "ipython",
    "version": 3
   },
   "file_extension": ".py",
   "mimetype": "text/x-python",
   "name": "python",
   "nbconvert_exporter": "python",
   "pygments_lexer": "ipython3",
   "version": "3.10.5"
  }
 },
 "nbformat": 4,
 "nbformat_minor": 5
}
