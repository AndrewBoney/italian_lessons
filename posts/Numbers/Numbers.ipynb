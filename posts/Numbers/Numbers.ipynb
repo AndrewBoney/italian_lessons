{
 "cells": [
  {
   "cell_type": "raw",
   "id": "1596e221",
   "metadata": {},
   "source": [
    "---\n",
    "title: \"Numbers\"\n",
    "date: \"2022-11-14\"\n",
    "categories: [theme, unfinished]\n",
    "format: \n",
    "    html:\n",
    "        toc: true\n",
    "jupyter: python3\n",
    "---"
   ]
  },
  {
   "cell_type": "markdown",
   "id": "a7023ee2",
   "metadata": {},
   "source": [
    "# Numbers"
   ]
  },
  {
   "cell_type": "code",
   "execution_count": 12,
   "id": "41015cf0",
   "metadata": {},
   "outputs": [],
   "source": [
    "from googletrans import Translator\n",
    "from gtts import gTTS\n",
    "from learnitalian.speak import *"
   ]
  },
  {
   "cell_type": "code",
   "execution_count": 19,
   "id": "8d39d361",
   "metadata": {},
   "outputs": [
    {
     "data": {
      "text/plain": [
       "'1'"
      ]
     },
     "execution_count": 19,
     "metadata": {},
     "output_type": "execute_result"
    }
   ],
   "source": [
    "gTTS(\"1\", lang = \"it\").text"
   ]
  },
  {
   "cell_type": "code",
   "execution_count": null,
   "id": "f0df2aea",
   "metadata": {},
   "outputs": [],
   "source": []
  },
  {
   "cell_type": "code",
   "execution_count": 14,
   "id": "bb5dc092",
   "metadata": {},
   "outputs": [
    {
     "data": {
      "text/plain": [
       "'0'"
      ]
     },
     "metadata": {},
     "output_type": "display_data"
    },
    {
     "data": {
      "text/html": [
       "\n",
       "                <audio  controls=\"controls\" >\n",
       "                    <source src=\"data:audio/mpeg;base64,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\" type=\"audio/mpeg\" />\n",
       "                    Your browser does not support the audio element.\n",
       "                </audio>\n",
       "              "
      ],
      "text/plain": [
       "<IPython.lib.display.Audio object>"
      ]
     },
     "metadata": {},
     "output_type": "display_data"
    },
    {
     "data": {
      "text/plain": [
       "'1'"
      ]
     },
     "metadata": {},
     "output_type": "display_data"
    },
    {
     "data": {
      "text/html": [
       "\n",
       "                <audio  controls=\"controls\" >\n",
       "                    <source src=\"data:audio/mpeg;base64,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\" type=\"audio/mpeg\" />\n",
       "                    Your browser does not support the audio element.\n",
       "                </audio>\n",
       "              "
      ],
      "text/plain": [
       "<IPython.lib.display.Audio object>"
      ]
     },
     "metadata": {},
     "output_type": "display_data"
    },
    {
     "data": {
      "text/plain": [
       "'2'"
      ]
     },
     "metadata": {},
     "output_type": "display_data"
    },
    {
     "data": {
      "text/html": [
       "\n",
       "                <audio  controls=\"controls\" >\n",
       "                    <source src=\"data:audio/mpeg;base64,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\" type=\"audio/mpeg\" />\n",
       "                    Your browser does not support the audio element.\n",
       "                </audio>\n",
       "              "
      ],
      "text/plain": [
       "<IPython.lib.display.Audio object>"
      ]
     },
     "metadata": {},
     "output_type": "display_data"
    },
    {
     "data": {
      "text/plain": [
       "'3'"
      ]
     },
     "metadata": {},
     "output_type": "display_data"
    },
    {
     "data": {
      "text/html": [
       "\n",
       "                <audio  controls=\"controls\" >\n",
       "                    <source src=\"data:audio/mpeg;base64,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\" type=\"audio/mpeg\" />\n",
       "                    Your browser does not support the audio element.\n",
       "                </audio>\n",
       "              "
      ],
      "text/plain": [
       "<IPython.lib.display.Audio object>"
      ]
     },
     "metadata": {},
     "output_type": "display_data"
    },
    {
     "data": {
      "text/plain": [
       "'4'"
      ]
     },
     "metadata": {},
     "output_type": "display_data"
    },
    {
     "data": {
      "text/html": [
       "\n",
       "                <audio  controls=\"controls\" >\n",
       "                    <source src=\"data:audio/mpeg;base64,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\" type=\"audio/mpeg\" />\n",
       "                    Your browser does not support the audio element.\n",
       "                </audio>\n",
       "              "
      ],
      "text/plain": [
       "<IPython.lib.display.Audio object>"
      ]
     },
     "metadata": {},
     "output_type": "display_data"
    },
    {
     "data": {
      "text/plain": [
       "'5'"
      ]
     },
     "metadata": {},
     "output_type": "display_data"
    },
    {
     "data": {
      "text/html": [
       "\n",
       "                <audio  controls=\"controls\" >\n",
       "                    <source src=\"data:audio/mpeg;base64,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\" type=\"audio/mpeg\" />\n",
       "                    Your browser does not support the audio element.\n",
       "                </audio>\n",
       "              "
      ],
      "text/plain": [
       "<IPython.lib.display.Audio object>"
      ]
     },
     "metadata": {},
     "output_type": "display_data"
    },
    {
     "data": {
      "text/plain": [
       "'6'"
      ]
     },
     "metadata": {},
     "output_type": "display_data"
    },
    {
     "data": {
      "text/html": [
       "\n",
       "                <audio  controls=\"controls\" >\n",
       "                    <source src=\"data:audio/mpeg;base64,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\" type=\"audio/mpeg\" />\n",
       "                    Your browser does not support the audio element.\n",
       "                </audio>\n",
       "              "
      ],
      "text/plain": [
       "<IPython.lib.display.Audio object>"
      ]
     },
     "metadata": {},
     "output_type": "display_data"
    },
    {
     "data": {
      "text/plain": [
       "'7'"
      ]
     },
     "metadata": {},
     "output_type": "display_data"
    },
    {
     "data": {
      "text/html": [
       "\n",
       "                <audio  controls=\"controls\" >\n",
       "                    <source src=\"data:audio/mpeg;base64,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\" type=\"audio/mpeg\" />\n",
       "                    Your browser does not support the audio element.\n",
       "                </audio>\n",
       "              "
      ],
      "text/plain": [
       "<IPython.lib.display.Audio object>"
      ]
     },
     "metadata": {},
     "output_type": "display_data"
    },
    {
     "data": {
      "text/plain": [
       "'8'"
      ]
     },
     "metadata": {},
     "output_type": "display_data"
    },
    {
     "data": {
      "text/html": [
       "\n",
       "                <audio  controls=\"controls\" >\n",
       "                    <source src=\"data:audio/mpeg;base64,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\" type=\"audio/mpeg\" />\n",
       "                    Your browser does not support the audio element.\n",
       "                </audio>\n",
       "              "
      ],
      "text/plain": [
       "<IPython.lib.display.Audio object>"
      ]
     },
     "metadata": {},
     "output_type": "display_data"
    },
    {
     "data": {
      "text/plain": [
       "'9'"
      ]
     },
     "metadata": {},
     "output_type": "display_data"
    },
    {
     "data": {
      "text/html": [
       "\n",
       "                <audio  controls=\"controls\" >\n",
       "                    <source src=\"data:audio/mpeg;base64,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\" type=\"audio/mpeg\" />\n",
       "                    Your browser does not support the audio element.\n",
       "                </audio>\n",
       "              "
      ],
      "text/plain": [
       "<IPython.lib.display.Audio object>"
      ]
     },
     "metadata": {},
     "output_type": "display_data"
    },
    {
     "data": {
      "text/plain": [
       "'10'"
      ]
     },
     "metadata": {},
     "output_type": "display_data"
    },
    {
     "data": {
      "text/html": [
       "\n",
       "                <audio  controls=\"controls\" >\n",
       "                    <source src=\"data:audio/mpeg;base64,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\" type=\"audio/mpeg\" />\n",
       "                    Your browser does not support the audio element.\n",
       "                </audio>\n",
       "              "
      ],
      "text/plain": [
       "<IPython.lib.display.Audio object>"
      ]
     },
     "metadata": {},
     "output_type": "display_data"
    }
   ],
   "source": [
    "for i in range(11):\n",
    "    say_word(str(i))"
   ]
  }
 ],
 "metadata": {
  "kernelspec": {
   "display_name": "Python 3 (ipykernel)",
   "language": "python",
   "name": "python3"
  },
  "language_info": {
   "codemirror_mode": {
    "name": "ipython",
    "version": 3
   },
   "file_extension": ".py",
   "mimetype": "text/x-python",
   "name": "python",
   "nbconvert_exporter": "python",
   "pygments_lexer": "ipython3",
   "version": "3.10.5"
  }
 },
 "nbformat": 4,
 "nbformat_minor": 5
}
