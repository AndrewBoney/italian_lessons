{
 "cells": [
  {
   "cell_type": "raw",
   "id": "4c8bb02c",
   "metadata": {},
   "source": [
    "---\n",
    "title: \"Avere and Essere\"\n",
    "date: \"2022-09-28\"\n",
    "categories: [theme]\n",
    "format: \n",
    "    html:\n",
    "        toc: true\n",
    "jupyter: python3\n",
    "---"
   ]
  },
  {
   "cell_type": "markdown",
   "id": "02cbd741",
   "metadata": {},
   "source": [
    "# Numbers"
   ]
  },
  {
   "cell_type": "code",
   "execution_count": null,
   "id": "820e0710",
   "metadata": {},
   "outputs": [],
   "source": [
    "from learnitalian.speak import *"
   ]
  }
 ],
 "metadata": {
  "kernelspec": {
   "display_name": "Python 3 (ipykernel)",
   "language": "python",
   "name": "python3"
  },
  "language_info": {
   "codemirror_mode": {
    "name": "ipython",
    "version": 3
   },
   "file_extension": ".py",
   "mimetype": "text/x-python",
   "name": "python",
   "nbconvert_exporter": "python",
   "pygments_lexer": "ipython3",
   "version": "3.10.5"
  }
 },
 "nbformat": 4,
 "nbformat_minor": 5
}
