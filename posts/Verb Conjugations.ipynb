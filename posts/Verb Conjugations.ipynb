{
 "cells": [
  {
   "cell_type": "raw",
   "id": "21fc655d",
   "metadata": {},
   "source": [
    "---\n",
    "title: \"Verb Conjugations\"\n",
    "date: \"2022-11-28\"\n",
    "categories: [theme]\n",
    "format: \n",
    "    html:\n",
    "        toc: true\n",
    "jupyter: python3\n",
    "---"
   ]
  },
  {
   "cell_type": "code",
   "execution_count": null,
   "id": "10d09615",
   "metadata": {},
   "outputs": [],
   "source": [
    "#|echo: false\n",
    "import pandas as pd\n",
    "from googletrans import Translator"
   ]
  },
  {
   "cell_type": "markdown",
   "id": "5a4a67da",
   "metadata": {},
   "source": [
    "# Verb Conjugations"
   ]
  },
  {
   "cell_type": "markdown",
   "id": "37066a69",
   "metadata": {},
   "source": [
    "There are 3 (?) standard verb conjugations in german. I'll detail them here, showing the (present tense) conjugations with some variations for each, then show some examples. "
   ]
  },
  {
   "cell_type": "markdown",
   "id": "b8a24026",
   "metadata": {},
   "source": [
    "# First Conjugation\n",
    "\n",
    "Base example is Am<u>are</u>, meaning \"To Love\""
   ]
  },
  {
   "cell_type": "code",
   "execution_count": null,
   "id": "69b5b342",
   "metadata": {},
   "outputs": [],
   "source": [
    "base_word = \"amare\""
   ]
  },
  {
   "cell_type": "code",
   "execution_count": null,
   "id": "278c6397",
   "metadata": {},
   "outputs": [],
   "source": [
    "df_first = pd.DataFrame({\n",
    "    \"English Prefix\": [\"I\", \"you (individual)\", \"he/she\", \"we\", \"you (lot)\", \"they\"],\n",
    "    \"Italian Prefix\": [\"io\", \"tu\", \"lui/lei\", \"noi\", \"voi\", \"loro\"],\n",
    "    \"Italian Suffix\": [\"o\", \"i\", \"a\", \"iamo\", \"ate\", \"ano\"]\n",
    "})\n",
    "df_first[base_word] = base_word[:-3] + df_first[\"Italian Suffix\"]\n",
    "df_first.drop(\"Italian Suffix\", axis=1)"
   ]
  },
  {
   "cell_type": "markdown",
   "id": "4d40ce1d",
   "metadata": {},
   "source": [
    "Here is the base of the first conjugation. There are lots of variations of this, a few of which I'll add to the DataFrame"
   ]
  },
  {
   "cell_type": "code",
   "execution_count": null,
   "id": "d30c0c0c",
   "metadata": {},
   "outputs": [],
   "source": [
    "translator = Translator()"
   ]
  },
  {
   "cell_type": "code",
   "execution_count": null,
   "id": "6d2bdc75",
   "metadata": {},
   "outputs": [],
   "source": [
    "it_words = [\"Comprare\", \"Parlare\", \"Camminare\", \"Visitare\", \"Pagare\", \"Fumare\"]\n",
    "\n",
    "for w in it_words:\n",
    "    print(w, \"==\", translator.translate(w, dest = \"en\").text)\n",
    "    df_first[w] = w[:-3] + df_first[\"Italian Suffix\"]\n",
    "df_first.drop(\"Italian Suffix\", axis=1)"
   ]
  },
  {
   "cell_type": "code",
   "execution_count": null,
   "id": "396e0671",
   "metadata": {},
   "outputs": [],
   "source": [
    "def test_correct(en, it, print_correct = False):\n",
    "    it_correct = translator.translate(en, dest = \"it\").text\n",
    "    if print_correct: print(it_correct)\n",
    "    return it == it_correct"
   ]
  },
  {
   "cell_type": "markdown",
   "id": "a56f108b",
   "metadata": {},
   "source": [
    "I'm going to test my understanding with some examples. "
   ]
  },
  {
   "cell_type": "code",
   "execution_count": null,
   "id": "94972c42",
   "metadata": {},
   "outputs": [],
   "source": [
    "qs = [\"They love short shorts\", \"I buy milk\", \"We speak to the bank manager\", \"You walk to the supermarket\", \n",
    "      \"He pays the cashier\", \"They smoke some cigarettes\"]\n",
    "ans = [\"Loro amano pantaloncini corti\", \"Compro il latte\", \"Parliamo nel direttore di banca\", \"Cammini al supermarcato\",\n",
    "      \"Lui Paga il cassiera/e\", \"Fumano delle sigarette\"]"
   ]
  },
  {
   "cell_type": "code",
   "execution_count": null,
   "id": "d34d88b4",
   "metadata": {},
   "outputs": [],
   "source": [
    "[test_correct(q, a) for q, a in zip(qs, ans)]"
   ]
  },
  {
   "cell_type": "code",
   "execution_count": 36,
   "id": "3022a13f",
   "metadata": {},
   "outputs": [
    {
     "name": "stdout",
     "output_type": "stream",
     "text": [
      "Compro il latte\n"
     ]
    },
    {
     "data": {
      "text/plain": [
       "False"
      ]
     },
     "execution_count": 36,
     "metadata": {},
     "output_type": "execute_result"
    }
   ],
   "source": [
    "test_correct(\"I buy milk\", \"Compriamo Latte\", True)"
   ]
  },
  {
   "cell_type": "code",
   "execution_count": null,
   "id": "066cec97",
   "metadata": {},
   "outputs": [],
   "source": []
  }
 ],
 "metadata": {
  "kernelspec": {
   "display_name": "Python 3 (ipykernel)",
   "language": "python",
   "name": "python3"
  },
  "language_info": {
   "codemirror_mode": {
    "name": "ipython",
    "version": 3
   },
   "file_extension": ".py",
   "mimetype": "text/x-python",
   "name": "python",
   "nbconvert_exporter": "python",
   "pygments_lexer": "ipython3",
   "version": "3.10.5"
  }
 },
 "nbformat": 4,
 "nbformat_minor": 5
}
